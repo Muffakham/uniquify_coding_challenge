{
  "nbformat": 4,
  "nbformat_minor": 0,
  "metadata": {
    "colab": {
      "name": "Uniquify_Coding_Challenge.ipynb",
      "provenance": [],
      "collapsed_sections": []
    },
    "kernelspec": {
      "name": "python3",
      "display_name": "Python 3"
    },
    "language_info": {
      "name": "python"
    }
  },
  "cells": [
    {
      "cell_type": "code",
      "execution_count": 1,
      "metadata": {
        "id": "MffwYlK7uYjv"
      },
      "outputs": [],
      "source": [
        "def getTensor(arr, shape):\n",
        "    \"\"\"\n",
        "    this funciton takes in a list of data, converts it into a tensor of the corresponding shape given\n",
        "    Inputs -  list of data, list of shape\n",
        "    Outputs - \"Error message\" if there us an error with the shape list\n",
        "               [] if a shape list is empty\n",
        "               Tensor of the given shape, if the above two conditions are not met\n",
        "    \"\"\"\n",
        "    if shape:\n",
        "        #only work with the list of data, the shape list is non mepty.\n",
        "        for i in range(len(shape)):\n",
        "            #if the spae list has empty dimension or has a dimesion not as integer\n",
        "            if (type(shape[i-1]) != type(shape[i])) or not (shape[i]) or type(shape[i]) != int:\n",
        "                return \"Erroneous shape array!\"\n",
        "        mval = 1\n",
        "        for i in shape: mval *= i #calculating the toal number of data points needed according to the dimensions (product of dimensions)\n",
        "        if len(arr) > mval: \n",
        "            #trimming the data list if it is too long\n",
        "            arr = arr[:mval]\n",
        "        else:\n",
        "            #padding the data list with 0 if it is smaller than number of data points required\n",
        "            while len(arr) < mval:\n",
        "                arr.append(0)\n",
        "            \n",
        "        for i in shape[::-1]:\n",
        "            #iterating over shape from lowest order dimension to higest order\n",
        "            newArr = [] \n",
        "            for j in range(0,len(arr),i):\n",
        "                #creating tensors of current dimension\n",
        "                newArr.append(arr[j:j+i])\n",
        "            arr = newArr #updating the list with newly created tensors\n",
        "        \n",
        "        newArr = newArr[0]\n",
        "        return newArr\n",
        "    else:\n",
        "        return []\n",
        "    \n"
      ]
    },
    {
      "cell_type": "code",
      "source": [
        "def testGetTensor():\n",
        "  \"\"\"\n",
        "  function to test the getTensor function\n",
        "  \"\"\"\n",
        "\n",
        "  #case 1\n",
        "\n",
        "  arr = [3,4,5,6,7,8,9,10,11,12,13,14,15]\n",
        "  shape = [\"\",3,4]\n",
        "  print(\"\\nFor the case: the shape array is not made of integers\")\n",
        "  print(\"list of data: \", arr)\n",
        "  print(\"list of shape: \", shape)\n",
        "  print(\"the result is as follows ..... \\n\")\n",
        "  print(getTensor(arr,shape))\n",
        "\n",
        "  print(\"\\n--------------------------------------------------------------------------------------\")\n",
        "  #case 2\n",
        "\n",
        "  arr = [0,1,2,3,4,5,6,7,8,9,10,11,12,13,14,15]\n",
        "  shape = [1,3,4]\n",
        "  print(\"\\nFor the case: where the data list has to be trimmed according to the shape \")\n",
        "  print(\"list of data: \", arr)\n",
        "  print(\"list of shape: \", shape)\n",
        "  print(\"the result is as follows ..... \\n\")\n",
        "  print(getTensor(arr,shape))\n",
        "\n",
        "  print(\"\\n--------------------------------------------------------------------------------------\")\n",
        "  #case 3\n",
        "\n",
        "  arr = [3,4,5,6,7,8,9,10,11,12,13,14,15]\n",
        "  shape = [1,4,3,4]\n",
        "  print(\"\\nFor the case: where the data list is small and padding is required\")\n",
        "  print(\"list of data: \", arr)\n",
        "  print(\"list of shape: \", shape)\n",
        "  print(\"the result is as follows ..... \\n\")\n",
        "  print(getTensor(arr,shape))"
      ],
      "metadata": {
        "id": "A9ERnRNCu2-m"
      },
      "execution_count": 19,
      "outputs": []
    },
    {
      "cell_type": "code",
      "source": [
        "testGetTensor()"
      ],
      "metadata": {
        "colab": {
          "base_uri": "https://localhost:8080/"
        },
        "id": "w8wvdFfluqzJ",
        "outputId": "1e5baae2-68cf-429c-d38f-58eb7bf56ff2"
      },
      "execution_count": 20,
      "outputs": [
        {
          "output_type": "stream",
          "name": "stdout",
          "text": [
            "\n",
            "For the case: the shape array is not made of integers\n",
            "list of data:  [3, 4, 5, 6, 7, 8, 9, 10, 11, 12, 13, 14, 15]\n",
            "list of shape:  ['', 3, 4]\n",
            "the result is as follows ..... \n",
            "\n",
            "Erroneous shape array!\n",
            "\n",
            "--------------------------------------------------------------------------------------\n",
            "\n",
            "For the case: where the data list has to be trimmed according to the shape \n",
            "list of data:  [0, 1, 2, 3, 4, 5, 6, 7, 8, 9, 10, 11, 12, 13, 14, 15]\n",
            "list of shape:  [1, 3, 4]\n",
            "the result is as follows ..... \n",
            "\n",
            "[[[0, 1, 2, 3], [4, 5, 6, 7], [8, 9, 10, 11]]]\n",
            "\n",
            "--------------------------------------------------------------------------------------\n",
            "\n",
            "For the case: where the data list is small and padding is required\n",
            "list of data:  [3, 4, 5, 6, 7, 8, 9, 10, 11, 12, 13, 14, 15]\n",
            "list of shape:  [1, 4, 3, 4]\n",
            "the result is as follows ..... \n",
            "\n",
            "[[[[3, 4, 5, 6], [7, 8, 9, 10], [11, 12, 13, 14]], [[15, 0, 0, 0], [0, 0, 0, 0], [0, 0, 0, 0]], [[0, 0, 0, 0], [0, 0, 0, 0], [0, 0, 0, 0]], [[0, 0, 0, 0], [0, 0, 0, 0], [0, 0, 0, 0]]]]\n"
          ]
        }
      ]
    },
    {
      "cell_type": "code",
      "source": [
        "!python3 -m unittest test"
      ],
      "metadata": {
        "colab": {
          "base_uri": "https://localhost:8080/"
        },
        "id": "Nlqj-3MY2To-",
        "outputId": "b94131aa-50f6-43e7-a831-c0e1ca3cff6f"
      },
      "execution_count": 21,
      "outputs": [
        {
          "output_type": "stream",
          "name": "stdout",
          "text": [
            "\n",
            "Given data: \n",
            "list of data:  [0, 1, 2, 3, 4, 5, 0.1, 0.2, -3, -2, -1, 3, 2, 1]\n",
            "list of shape:  []\n",
            "test result:  []\n",
            ".\n",
            "Given data: \n",
            "list of data:  [0, 1, 2, 3, 4, 5, 0.1, 0.2, -3, -2, -1, 3, 2, 1]\n",
            "list of shape:  ['', 5, 2]\n",
            "test result:  Erroneous shape array!\n",
            ".\n",
            "Given data: \n",
            "list of data:  [0, 1, 2, 3, 4, 5, 0.1, 0.2, -3]\n",
            "list of shape:  [2, 3, 2]\n",
            "test result:  [[[0, 1], [2, 3], [4, 5]], [[0.1, 0.2], [-3, 0], [0, 0]]]\n",
            ".\n",
            "Given data: \n",
            "list of data:  [0, 1, 2, 3, 4, 5, 0.1, 0.2, -3, -2, -1, 3, 2, 1]\n",
            "list of shape:  [5, 2]\n",
            "test result:  [[0, 1], [2, 3], [4, 5], [0.1, 0.2], [-3, -2]]\n",
            ".\n",
            "----------------------------------------------------------------------\n",
            "Ran 4 tests in 0.001s\n",
            "\n",
            "OK\n"
          ]
        }
      ]
    }
  ]
}